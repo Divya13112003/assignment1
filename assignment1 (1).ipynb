{
 "cells": [
  {
   "cell_type": "code",
   "execution_count": null,
   "id": "8f4350f7-b303-4bd6-b20d-40535644b10c",
   "metadata": {},
   "outputs": [],
   "source": [
    "Q1.\n",
    "a=\"rohit\"\n",
    "b=[23,'divya',45]\n",
    "c=45.47\n",
    "d=(2,5,'student')  "
   ]
  },
  {
   "cell_type": "code",
   "execution_count": null,
   "id": "bbfade5e-0724-4107-9677-d36de321def4",
   "metadata": {},
   "outputs": [],
   "source": [
    "Q2.\n",
    "ans-blank,str,list,num"
   ]
  },
  {
   "cell_type": "code",
   "execution_count": null,
   "id": "738090eb-2863-4259-a3a4-72ee1c1f9774",
   "metadata": {},
   "outputs": [],
   "source": [
    "Q3.\n",
    "/-give quotient of two numbers upto decimal places. for ex-9/3=3\n",
    "%-give remainder of two numbers.for ex-5/4=1\n",
    "//-give quotient but only integer places.for ex-10//3=3\n",
    "**-it gives exponential of one on another number.for ex-3**3=27"
   ]
  },
  {
   "cell_type": "code",
   "execution_count": 14,
   "id": "825a6218-cd18-4fe4-9003-b800e98e9626",
   "metadata": {},
   "outputs": [
    {
     "name": "stdout",
     "output_type": "stream",
     "text": [
      "rohit\n",
      "<class 'str'>\n",
      "23\n",
      "<class 'int'>\n",
      "50.25\n",
      "<class 'float'>\n",
      "False\n",
      "<class 'bool'>\n",
      "(23, 'divya')\n",
      "<class 'tuple'>\n",
      "student\n",
      "<class 'str'>\n",
      "99\n",
      "<class 'int'>\n",
      "(2+3j)\n",
      "<class 'complex'>\n",
      "68.88\n",
      "<class 'float'>\n",
      "books\n",
      "<class 'str'>\n"
     ]
    }
   ],
   "source": [
    "Q4.\n",
    "l=['rohit',23,50.25,False,(23,'divya'),'student',99,(2+3j),68.88,'books']\n",
    "for i in l:\n",
    "    print(i)\n",
    "    print(type(i))"
   ]
  },
  {
   "cell_type": "code",
   "execution_count": null,
   "id": "6fa92afb-318a-46a6-b17b-b49a7eee8786",
   "metadata": {},
   "outputs": [],
   "source": [
    "Q5.\n",
    "a=int(input())\n",
    "b=int(input())\n",
    "c=0\n",
    "if a/b==0:\n",
    "    while(a/b>=b and type(a/b)==int):\n",
    "        c+=1\n",
    "        a/=b \n",
    "else:\n",
    "    print(\"not divisible\")"
   ]
  },
  {
   "cell_type": "code",
   "execution_count": 8,
   "id": "a8e429fc-9055-4c34-88af-e04c4259505d",
   "metadata": {},
   "outputs": [
    {
     "data": {
      "text/plain": [
       "[3, 6, 9, 12, 15, 18, 21, 24]"
      ]
     },
     "execution_count": 8,
     "metadata": {},
     "output_type": "execute_result"
    }
   ],
   "source": [
    "Q6.\n",
    "l=[1,2,3,4,5,6,7,8,9,10,11,12,13,14,15,16,17,18,19,20,21,22,23,24,25]\n",
    "l1=[]\n",
    "l2=[]\n",
    "for i in l:\n",
    "    if(i%3==0):\n",
    "        l1.append(i)\n",
    "    else:\n",
    "        l2.append(i)\n",
    "l1        \n",
    "    "
   ]
  },
  {
   "cell_type": "code",
   "execution_count": 3,
   "id": "182b2c4e-bef8-4b76-a9de-327743dbc1fe",
   "metadata": {},
   "outputs": [
    {
     "data": {
      "text/plain": [
       "[1, 2, 4, 5, 7, 8, 10, 11, 13, 14, 16, 17, 19, 20, 22, 23]"
      ]
     },
     "execution_count": 3,
     "metadata": {},
     "output_type": "execute_result"
    }
   ],
   "source": [
    "l2"
   ]
  },
  {
   "cell_type": "code",
   "execution_count": null,
   "id": "3c2eb52f-2573-4959-938b-2950da509f72",
   "metadata": {},
   "outputs": [],
   "source": [
    "Q7.\n",
    "mutable data type-those data types in which we modify the already existing values of the data types(such as list,dictionary).\n",
    "immutable data type-those data types whose values cannot be changed once initialized(such as int,frozen set,tuple).\n"
   ]
  },
  {
   "cell_type": "code",
   "execution_count": 1,
   "id": "b8a4ac84-2277-48f7-8c60-e8235a2d2761",
   "metadata": {},
   "outputs": [
    {
     "data": {
      "text/plain": [
       "[2, 5, 'rohit', True, 'books']"
      ]
     },
     "execution_count": 1,
     "metadata": {},
     "output_type": "execute_result"
    }
   ],
   "source": [
    "# example of mutable data type\n",
    "l=[2,5,3+4j,True,'student']\n",
    "l[2]='rohit'\n",
    "l[4]='books'\n",
    "l"
   ]
  },
  {
   "cell_type": "code",
   "execution_count": 2,
   "id": "68109e82-2b94-41df-b6a6-8a4f59636fe5",
   "metadata": {},
   "outputs": [
    {
     "ename": "TypeError",
     "evalue": "'tuple' object does not support item assignment",
     "output_type": "error",
     "traceback": [
      "\u001b[0;31m---------------------------------------------------------------------------\u001b[0m",
      "\u001b[0;31mTypeError\u001b[0m                                 Traceback (most recent call last)",
      "Cell \u001b[0;32mIn[2], line 3\u001b[0m\n\u001b[1;32m      1\u001b[0m \u001b[38;5;66;03m#example of immutable data type\u001b[39;00m\n\u001b[1;32m      2\u001b[0m a\u001b[38;5;241m=\u001b[39m(\u001b[38;5;241m0\u001b[39m,\u001b[38;5;241m1\u001b[39m,\u001b[38;5;241m2\u001b[39m,\u001b[38;5;241m3\u001b[39m)\n\u001b[0;32m----> 3\u001b[0m \u001b[43ma\u001b[49m\u001b[43m[\u001b[49m\u001b[38;5;241;43m0\u001b[39;49m\u001b[43m]\u001b[49m\u001b[38;5;241m=\u001b[39m\u001b[38;5;241m56\u001b[39m\n\u001b[1;32m      4\u001b[0m \u001b[38;5;28mprint\u001b[39m(a)\n",
      "\u001b[0;31mTypeError\u001b[0m: 'tuple' object does not support item assignment"
     ]
    }
   ],
   "source": [
    "#example of immutable data type\n",
    "a=(0,1,2,3)\n",
    "a[0]=56\n",
    "print(a)"
   ]
  },
  {
   "cell_type": "code",
   "execution_count": null,
   "id": "14bcd4de-0635-49b2-b853-544118f69e5d",
   "metadata": {},
   "outputs": [],
   "source": []
  },
  {
   "cell_type": "code",
   "execution_count": null,
   "id": "06931802-c5a0-40d8-bfb8-88eda8a5543a",
   "metadata": {},
   "outputs": [],
   "source": []
  }
 ],
 "metadata": {
  "kernelspec": {
   "display_name": "Python 3 (ipykernel)",
   "language": "python",
   "name": "python3"
  },
  "language_info": {
   "codemirror_mode": {
    "name": "ipython",
    "version": 3
   },
   "file_extension": ".py",
   "mimetype": "text/x-python",
   "name": "python",
   "nbconvert_exporter": "python",
   "pygments_lexer": "ipython3",
   "version": "3.10.8"
  }
 },
 "nbformat": 4,
 "nbformat_minor": 5
}
